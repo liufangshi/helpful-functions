{
 "cells": [
  {
   "cell_type": "code",
   "execution_count": null,
   "id": "59f34969",
   "metadata": {},
   "outputs": [],
   "source": [
    "# TF-IDF + standard scale + pca\n",
    "\n",
    "from sklearn.feature_extraction.text import TfidfVectorizer\n",
    "from sklearn.preprocessing import StandardScaler\n",
    "from sklearn.decomposition import PCA, TruncatedSVD\n",
    "\n",
    "def tf_vectorizer(df, model, target):\n",
    "    tfidf_fit=model.fit(df[target])\n",
    "    X_vectorized = tfidf_fit.transform(df[target])\n",
    "    \n",
    "#     words = tfidf_fit.get_feature_names()\n",
    "#     df_vectorized = pd.DataFrame(X_vectorized.toarray())\n",
    "#     df_vectorized.columns = words\n",
    "    return(X_vectorized.toarray())\n",
    "\n",
    "tfidf = TfidfVectorizer()\n",
    "X_vectorized=tf_vectorizer(df, tfidf, 'text_clean')\n",
    "\n",
    "\n",
    "scaler = StandardScaler()\n",
    "X_scaled = scaler.fit_transform(X_vectorized)\n",
    "\n",
    "\n",
    "comp = 800\n",
    "pca = PCA(n_components=comp, random_state=0)\n",
    "X_pca = pca.fit_transform(X_scaled)\n",
    "df_pca = pd.DataFrame(X_pca, columns=['pca_'+str(i) for i in range(comp)])\n",
    "df = df.merge(df_pca, left_index=True, right_index=True)\n",
    "df\n",
    "\n",
    "# plt.plot(np.cumsum(pca.explained_variance_ratio_))\n",
    "# plt.xlabel('number of components')\n",
    "# plt.ylabel('cumulative explained variance');"
   ]
  }
 ],
 "metadata": {
  "kernelspec": {
   "display_name": "Python 3",
   "language": "python",
   "name": "python3"
  },
  "language_info": {
   "codemirror_mode": {
    "name": "ipython",
    "version": 3
   },
   "file_extension": ".py",
   "mimetype": "text/x-python",
   "name": "python",
   "nbconvert_exporter": "python",
   "pygments_lexer": "ipython3",
   "version": "3.7.10"
  }
 },
 "nbformat": 4,
 "nbformat_minor": 5
}
